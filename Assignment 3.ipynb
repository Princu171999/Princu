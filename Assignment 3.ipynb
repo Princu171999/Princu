{
 "cells": [
  {
   "cell_type": "code",
   "execution_count": 1,
   "metadata": {},
   "outputs": [
    {
     "name": "stdout",
     "output_type": "stream",
     "text": [
      "Enter any number: 0\n",
      "division by zero\n"
     ]
    }
   ],
   "source": [
    "try:\n",
    "    user_input= int(input(\"Enter any number: \"))\n",
    "    result=5/user_input\n",
    "    print(\"The result of the calculation is: \" + str(result))\n",
    "except Exception as e:\n",
    "    print(e)"
   ]
  },
  {
   "cell_type": "code",
   "execution_count": 16,
   "metadata": {},
   "outputs": [
    {
     "name": "stdout",
     "output_type": "stream",
     "text": [
      "Americans play Baseball.\n",
      "Americans play Cricket.\n",
      "Americans watch Baseball.\n",
      "Americans watch Cricket.\n",
      "Indians play Baseball.\n",
      "Indians play Cricket.\n",
      "Indians watch Baseball.\n",
      "Indians watch Cricket.\n"
     ]
    }
   ],
   "source": [
    "subjects = [\"Americans\" , \"Indians\"]\n",
    "verbs = [\"play\" , \"watch\"]\n",
    "objects = [\"Baseball\" , \"Cricket\"]\n",
    "\n",
    "result = [(sub+ \" \" + verb + \" \" + obj + \".\") for sub in subjects for verb in verbs for obj in objects]\n",
    "for i in result:\n",
    "    print(i)"
   ]
  },
  {
   "cell_type": "code",
   "execution_count": 22,
   "metadata": {},
   "outputs": [
    {
     "name": "stdout",
     "output_type": "stream",
     "text": [
      "[[ 1  1  1]\n",
      " [ 4  2  1]\n",
      " [ 9  3  1]\n",
      " [16  4  1]\n",
      " [25  5  1]] \n",
      " [[ 1  1  1]\n",
      " [ 1  2  4]\n",
      " [ 1  3  9]\n",
      " [ 1  4 16]\n",
      " [ 1  5 25]]\n"
     ]
    }
   ],
   "source": [
    "import numpy as np\n",
    "\n",
    "def vander_matrix(ip, n, increasing=False):\n",
    "    \n",
    "    if not increasing:\n",
    "        matx = np.array([x**(n-1-i) for x in ip for i in range(n)]).reshape(ip.size,n)\n",
    "    elif increasing:\n",
    "        matx = np.array([x**i for x in ip for i in range(n)]).reshape(ip.size,n)\n",
    "    \n",
    "    return matx\n",
    "\n",
    "inputvector = np.array([1,2,3,4,5])\n",
    "no_col_opmat = 3\n",
    "matx_dec_order = vander_matrix(inputvector,no_col_opmat,False)\n",
    "matx_inc_order = vander_matrix(inputvector,no_col_opmat,True)\n",
    "print(\"Vander matrix of the input array in decreasing order of powers:\\n\\n\",matx_dec_order,\"\\n\")\n",
    "print(\"Vander matrix of the input array in increasing order of powers:\\n\\n\",op_matx_inc_order,\"\\n\")"
   ]
  },
  {
   "cell_type": "code",
   "execution_count": null,
   "metadata": {},
   "outputs": [],
   "source": []
  }
 ],
 "metadata": {
  "kernelspec": {
   "display_name": "Python 3",
   "language": "python",
   "name": "python3"
  },
  "language_info": {
   "codemirror_mode": {
    "name": "ipython",
    "version": 3
   },
   "file_extension": ".py",
   "mimetype": "text/x-python",
   "name": "python",
   "nbconvert_exporter": "python",
   "pygments_lexer": "ipython3",
   "version": "3.7.6"
  }
 },
 "nbformat": 4,
 "nbformat_minor": 4
}
